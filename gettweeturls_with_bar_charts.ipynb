{
 "cells": [
  {
   "cell_type": "markdown",
   "metadata": {
    "colab_type": "text",
    "deletable": true,
    "editable": true,
    "id": "cpSzCe70pl2B"
   },
   "source": [
    "# New Orleans Dataset\n",
    "\n",
    "Mileva Van Tuyl\n",
    "Funing Yang\n",
    "Daphka Alius\n",
    "Jane Yang"
   ]
  },
  {
   "cell_type": "code",
   "execution_count": 2,
   "metadata": {
    "colab": {},
    "colab_type": "code",
    "collapsed": true,
    "deletable": true,
    "editable": true,
    "id": "NQ9wDNuipl2C"
   },
   "outputs": [],
   "source": [
    "import csv\n",
    "import json\n",
    "from datetime import datetime\n",
    "import datetime\n",
    "from difflib import get_close_matches\n",
    "import collections\n",
    "import pandas as pd\n",
    "import GetOldTweets3 as got\n",
    "import matplotlib.pyplot as plt\n",
    "import numpy as np\n",
    "import pandas as pd\n"
   ]
  },
  {
   "cell_type": "code",
   "execution_count": 3,
   "metadata": {
    "colab": {},
    "colab_type": "code",
    "collapsed": false,
    "deletable": true,
    "editable": true,
    "id": "v3O0YsLzpl2F"
   },
   "outputs": [
    {
     "ename": "FileNotFoundError",
     "evalue": "[Errno 2] No such file or directory: '/Users/yyang5/Downloads/CredLab_week1/ira_tweets_csv_hashed.csv'",
     "output_type": "error",
     "traceback": [
      "\u001b[0;31m---------------------------------------------------------------------------\u001b[0m",
      "\u001b[0;31mFileNotFoundError\u001b[0m                         Traceback (most recent call last)",
      "\u001b[0;32m<ipython-input-3-f3e12c4e220d>\u001b[0m in \u001b[0;36m<module>\u001b[0;34m()\u001b[0m\n\u001b[0;32m----> 1\u001b[0;31m \u001b[0mtweets\u001b[0m \u001b[0;34m=\u001b[0m \u001b[0mcsv\u001b[0m\u001b[0;34m.\u001b[0m\u001b[0mreader\u001b[0m\u001b[0;34m(\u001b[0m\u001b[0mopen\u001b[0m\u001b[0;34m(\u001b[0m\u001b[0;34m'/Users/yyang5/Downloads/CredLab_week1/ira_tweets_csv_hashed.csv'\u001b[0m\u001b[0;34m,\u001b[0m\u001b[0mencoding\u001b[0m\u001b[0;34m=\u001b[0m\u001b[0;34m'utf-8'\u001b[0m\u001b[0;34m)\u001b[0m\u001b[0;34m)\u001b[0m\u001b[0;34m\u001b[0m\u001b[0m\n\u001b[0m",
      "\u001b[0;31mFileNotFoundError\u001b[0m: [Errno 2] No such file or directory: '/Users/yyang5/Downloads/CredLab_week1/ira_tweets_csv_hashed.csv'"
     ]
    }
   ],
   "source": [
    "tweets = csv.reader(open('/Users/yyang5/Downloads/CredLab_week1/ira_tweets_csv_hashed.csv',encoding='utf-8'))"
   ]
  },
  {
   "cell_type": "code",
   "execution_count": 0,
   "metadata": {
    "colab": {},
    "colab_type": "code",
    "collapsed": true,
    "deletable": true,
    "editable": true,
    "id": "_pnwL2Cepl2H"
   },
   "outputs": [],
   "source": [
    "def getFakeTweets(newsName):\n",
    "    nola_clean = []\n",
    "    for tweet in tweets:\n",
    "        if tweet[3] == newsName: \n",
    "            nola_clean.append(tweet)\n",
    "        #print(tweet[12])\n",
    "    with open(newsName+'.txt', 'w') as outfile:\n",
    "        json.dump(nola_clean,outfile)\n"
   ]
  },
  {
   "cell_type": "code",
   "execution_count": 0,
   "metadata": {
    "colab": {},
    "colab_type": "code",
    "collapsed": true,
    "deletable": true,
    "editable": true,
    "id": "Hn7VD0u-pl2I"
   },
   "outputs": [],
   "source": [
    "fake_news_accounts = [\n",
    "    'NewOrleansON',\n",
    "'ElPasoTopNews',\n",
    "'DailySanJose',\n",
    "'ChicagoDailyNew',\n",
    "'DailySanFran',\n",
    "'DetroitDailyNew',\n",
    "'TodayCincinnati',\n",
    "'MinneapolisON',\n",
    "'KansasDailyNews',\n",
    "'TodayBostonMA',\n",
    "'TodayPittsburgh',\n",
    "'Seattle_Post',\n",
    "'PhiladelphiaON',\n",
    "'DailyLosAngeles',\n",
    "'HoustonTopNews',\n",
    "'DailySanDiego',\n",
    "'DallasTopNews',\n",
    "'WashingtOnline',\n",
    "'TodayNYCity',\n",
    "'OnlineCleveland',\n",
    "'SanAntoTopNews',\n",
    "'PhoenixDailyNew',\n",
    "'TodayMiami',\n",
    "'Atlanta_Online',\n",
    "'Baltimore0nline',\n",
    "'OaklandOnline',\n",
    "'StLouisOnline']"
   ]
  },
  {
   "cell_type": "code",
   "execution_count": 0,
   "metadata": {
    "colab": {},
    "colab_type": "code",
    "collapsed": false,
    "deletable": true,
    "editable": true,
    "id": "2IFeVv5Zpl2L",
    "outputId": "66cbfa90-7c30-4fa9-b0c6-373716ad0592"
   },
   "outputs": [
    {
     "ename": "KeyboardInterrupt",
     "evalue": "",
     "output_type": "error",
     "traceback": [
      "\u001b[0;31m---------------------------------------------------------------------------\u001b[0m",
      "\u001b[0;31mKeyboardInterrupt\u001b[0m                         Traceback (most recent call last)",
      "\u001b[0;32m<ipython-input-270-6df8bf85a4e9>\u001b[0m in \u001b[0;36m<module>\u001b[0;34m()\u001b[0m\n\u001b[1;32m      1\u001b[0m \u001b[0;32mfor\u001b[0m \u001b[0maccount\u001b[0m \u001b[0;32min\u001b[0m \u001b[0mfake_news_accounts\u001b[0m\u001b[0;34m:\u001b[0m\u001b[0;34m\u001b[0m\u001b[0m\n\u001b[1;32m      2\u001b[0m     \u001b[0;32mtry\u001b[0m\u001b[0;34m:\u001b[0m\u001b[0;34m\u001b[0m\u001b[0m\n\u001b[0;32m----> 3\u001b[0;31m         \u001b[0mgetFakeTweets\u001b[0m\u001b[0;34m(\u001b[0m\u001b[0maccount\u001b[0m\u001b[0;34m)\u001b[0m\u001b[0;34m\u001b[0m\u001b[0m\n\u001b[0m\u001b[1;32m      4\u001b[0m     \u001b[0;32mexcept\u001b[0m \u001b[0mIndexError\u001b[0m\u001b[0;34m:\u001b[0m\u001b[0;34m\u001b[0m\u001b[0m\n\u001b[1;32m      5\u001b[0m         \u001b[0mprint\u001b[0m\u001b[0;34m(\u001b[0m\u001b[0maccount\u001b[0m\u001b[0;34m)\u001b[0m\u001b[0;34m\u001b[0m\u001b[0m\n",
      "\u001b[0;32m<ipython-input-259-2cc5feb3d351>\u001b[0m in \u001b[0;36mgetFakeTweets\u001b[0;34m(newsName)\u001b[0m\n\u001b[1;32m      1\u001b[0m \u001b[0;32mdef\u001b[0m \u001b[0mgetFakeTweets\u001b[0m\u001b[0;34m(\u001b[0m\u001b[0mnewsName\u001b[0m\u001b[0;34m)\u001b[0m\u001b[0;34m:\u001b[0m\u001b[0;34m\u001b[0m\u001b[0m\n\u001b[1;32m      2\u001b[0m     \u001b[0mnola_clean\u001b[0m \u001b[0;34m=\u001b[0m \u001b[0;34m[\u001b[0m\u001b[0;34m]\u001b[0m\u001b[0;34m\u001b[0m\u001b[0m\n\u001b[0;32m----> 3\u001b[0;31m     \u001b[0;32mfor\u001b[0m \u001b[0mtweet\u001b[0m \u001b[0;32min\u001b[0m \u001b[0mtweets\u001b[0m\u001b[0;34m:\u001b[0m\u001b[0;34m\u001b[0m\u001b[0m\n\u001b[0m\u001b[1;32m      4\u001b[0m         \u001b[0;32mif\u001b[0m \u001b[0mtweet\u001b[0m\u001b[0;34m[\u001b[0m\u001b[0;36m3\u001b[0m\u001b[0;34m]\u001b[0m \u001b[0;34m==\u001b[0m \u001b[0mnewsName\u001b[0m\u001b[0;34m:\u001b[0m\u001b[0;34m\u001b[0m\u001b[0m\n\u001b[1;32m      5\u001b[0m             \u001b[0mnola_clean\u001b[0m\u001b[0;34m.\u001b[0m\u001b[0mappend\u001b[0m\u001b[0;34m(\u001b[0m\u001b[0mtweet\u001b[0m\u001b[0;34m)\u001b[0m\u001b[0;34m\u001b[0m\u001b[0m\n",
      "\u001b[0;31mKeyboardInterrupt\u001b[0m: "
     ]
    }
   ],
   "source": [
    "for account in fake_news_accounts:\n",
    "    try:\n",
    "        getFakeTweets(account)\n",
    "    except IndexError:\n",
    "        print(account)"
   ]
  },
  {
   "cell_type": "code",
   "execution_count": 0,
   "metadata": {
    "colab": {},
    "colab_type": "code",
    "collapsed": true,
    "deletable": true,
    "editable": true,
    "id": "qO9bLOqFQ8mC"
   },
   "outputs": [],
   "source": [
    "import urllib\n",
    "import requests\n"
   ]
  },
  {
   "cell_type": "code",
   "execution_count": 0,
   "metadata": {
    "colab": {},
    "colab_type": "code",
    "collapsed": true,
    "deletable": true,
    "editable": true,
    "id": "taZacaT1Q8mE"
   },
   "outputs": [],
   "source": [
    "news_obj = []\n",
    "f_start_date =[]\n",
    "f_end_date =[]\n",
    "#urls = []\n",
    "fakeAccountDict={}\n",
    "for account in fake_news_accounts:\n",
    "    fakeAccountDict[account]=[]\n",
    "\n",
    "\n",
    "def getUrls(newsName):\n",
    "    with open(newsName+'.txt','r') as json_file:\n",
    "        news_obj.append(json.load(json_file))\n",
    "        news_obj[-1].sort(key = lambda aList: aList[13])\n",
    "        fakeAccountDict[newsName].append(news_obj[-1][0][13])\n",
    "        fakeAccountDict[newsName].append(news_obj[-1][-1][13])\n",
    "        f_start_date.append(news_obj[-1][0][13])\n",
    "        f_end_date.append(news_obj[-1][-1][13])\n",
    "        urls = []\n",
    "        for i in range(len(news_obj[-1])):\n",
    "            url = news_obj[-1][i][28]\n",
    "            if \"//\" in url: \n",
    "                try:\n",
    "                    url_clean = url[1:-1]\n",
    "                    nl = requests.get(url_clean,timeout=0.05)\n",
    "                    urls.append(urllib.parse.urlparse(nl.url).netloc)\n",
    "                    #print(collections.Counter(urls))\n",
    "                except requests.exceptions.Timeout: \n",
    "                    pass\n",
    "                except requests.ConnectionError:\n",
    "                    pass\n",
    "                except requests.exceptions.HTTPError:\n",
    "                    pass\n",
    "\n",
    "        fakeAccountDict[newsName].append(set(urls))\n",
    "    with open(newsName+\"_urls.txt\", 'w') as outfile:\n",
    "        json.dump(fakeAccountDict[newsName], outfile)"
   ]
  },
  {
   "cell_type": "code",
   "execution_count": 0,
   "metadata": {
    "colab": {},
    "colab_type": "code",
    "collapsed": true,
    "deletable": true,
    "editable": true,
    "id": "VCBOLyPHQ8mG"
   },
   "outputs": [],
   "source": [
    "for news in fake_news_accounts:\n",
    "    getUrls(news)"
   ]
  },
  {
   "cell_type": "code",
   "execution_count": 0,
   "metadata": {
    "colab": {},
    "colab_type": "code",
    "collapsed": false,
    "deletable": true,
    "editable": true,
    "id": "bokBMLeCQ8mI",
    "outputId": "89e0a903-d9d6-4618-a7ed-20a2d662a86b"
   },
   "outputs": [
    {
     "ename": "KeyError",
     "evalue": "'TodayPittsburgh'",
     "output_type": "error",
     "traceback": [
      "\u001b[0;31m---------------------------------------------------------------------------\u001b[0m",
      "\u001b[0;31mKeyError\u001b[0m                                  Traceback (most recent call last)",
      "\u001b[0;32m<ipython-input-169-b78f2f306e55>\u001b[0m in \u001b[0;36m<module>\u001b[0;34m()\u001b[0m\n\u001b[0;32m----> 1\u001b[0;31m \u001b[0mprint\u001b[0m\u001b[0;34m(\u001b[0m\u001b[0mfakeAccountDict\u001b[0m\u001b[0;34m[\u001b[0m\u001b[0;34m'TodayPittsburgh'\u001b[0m\u001b[0;34m]\u001b[0m\u001b[0;34m)\u001b[0m\u001b[0;34m\u001b[0m\u001b[0m\n\u001b[0m",
      "\u001b[0;31mKeyError\u001b[0m: 'TodayPittsburgh'"
     ]
    }
   ],
   "source": [
    "print(fakeAccountDict['SanAntoTopNews'])"
   ]
  },
  {
   "cell_type": "code",
   "execution_count": 0,
   "metadata": {
    "colab": {},
    "colab_type": "code",
    "collapsed": true,
    "deletable": true,
    "editable": true,
    "id": "Vwv9tHl2pl2O"
   },
   "outputs": [],
   "source": [
    "realTweetsList=[]\n",
    "#'2014-09-15', '2014-09-30', '2014-10-15', '2014-10-31','2014-11-15', '2014-11-30', '2014-12-15', '2014-12-31','2015-01-15', '2015-01-31', '2015-02-15', '2015-02-28','2015-03-15', '2015-03-31', '2015-04-15', '2015-04-30','2015-05-15', '2015-05-31', '2015-06-15',\n",
    "#dates= [ '2015-06-30',\n",
    "          #     '2015-07-15', '2015-07-31', '2015-08-15', '2015-08-31',\n",
    "          #     '2015-09-15', '2015-09-30', '2015-10-15', '2015-10-31',\n",
    "          #     '2015-11-15', '2015-11-30', '2015-12-15', '2015-12-31',\n",
    "          #    '2016-01-15']\n",
    "\n",
    "\n",
    "for i in range(len(dates)-1):\n",
    "    realTweets=got.manager.TweetCriteria().setUsername('NOLAnews').setSince(dates[i]).setUntil(dates[i+1])\n",
    "    tweet = got.manager.TweetManager.getTweets(realTweets)[::]\n",
    "    #for item in tweet:\n",
    "        #realTweetsList.append(item.text)\n",
    "    realTweetsList=[(str(item.date),item.id,item.username,item.text,item.hashtags) for item in tweet]\n",
    "    with open(str(dates[i])+'.txt','w') as outfile:\n",
    "        json.dump(realTweetsList,outfile)\n",
    "    realTweetsList =[]\n",
    "\n",
    "\n",
    "\n",
    "\n",
    "#print(len(realTweetsList))"
   ]
  },
  {
   "cell_type": "code",
   "execution_count": 0,
   "metadata": {
    "colab": {},
    "colab_type": "code",
    "collapsed": false,
    "deletable": true,
    "editable": true,
    "id": "H_25aNvOpl2Q",
    "outputId": "ca7d3dab-b66a-411c-f22b-fcca3a655fff"
   },
   "outputs": [
    {
     "ename": "FileNotFoundError",
     "evalue": "[Errno 2] No such file or directory: 'real_tweets.txt'",
     "output_type": "error",
     "traceback": [
      "\u001b[0;31m---------------------------------------------------------------------------\u001b[0m",
      "\u001b[0;31mFileNotFoundError\u001b[0m                         Traceback (most recent call last)",
      "\u001b[0;32m<ipython-input-5-a8d6cbe89582>\u001b[0m in \u001b[0;36m<module>\u001b[0;34m()\u001b[0m\n\u001b[1;32m      6\u001b[0m \u001b[0;31m#    fakeTweetsList.append(tweet[12])\u001b[0m\u001b[0;34m\u001b[0m\u001b[0;34m\u001b[0m\u001b[0m\n\u001b[1;32m      7\u001b[0m \u001b[0;31m#print(fakeTweetsList[0])\u001b[0m\u001b[0;34m\u001b[0m\u001b[0;34m\u001b[0m\u001b[0m\n\u001b[0;32m----> 8\u001b[0;31m \u001b[0;32mwith\u001b[0m \u001b[0mopen\u001b[0m\u001b[0;34m(\u001b[0m\u001b[0;34m'real_tweets.txt'\u001b[0m\u001b[0;34m,\u001b[0m\u001b[0;34m'r'\u001b[0m\u001b[0;34m)\u001b[0m \u001b[0;32mas\u001b[0m \u001b[0mjson_file\u001b[0m\u001b[0;34m:\u001b[0m\u001b[0;34m\u001b[0m\u001b[0m\n\u001b[0m\u001b[1;32m      9\u001b[0m     \u001b[0mreal_tweets_obj\u001b[0m \u001b[0;34m=\u001b[0m \u001b[0mjson\u001b[0m\u001b[0;34m.\u001b[0m\u001b[0mload\u001b[0m\u001b[0;34m(\u001b[0m\u001b[0mjson_file\u001b[0m\u001b[0;34m)\u001b[0m\u001b[0;34m\u001b[0m\u001b[0m\n\u001b[1;32m     10\u001b[0m \u001b[0;34m\u001b[0m\u001b[0m\n",
      "\u001b[0;31mFileNotFoundError\u001b[0m: [Errno 2] No such file or directory: 'real_tweets.txt'"
     ]
    }
   ],
   "source": [
    "# Collect the tweets for the fake NOLA\n",
    "\n",
    "#tweets = csv.reader(open('/Users/yyang5/Downloads/CredLab_week1/ira_tweets_csv_hashed.csv',encoding='utf-8'))\n",
    "#fakeTweetsList=[]\n",
    "#for tweet in tweets:\n",
    "#    fakeTweetsList.append(tweet[12])\n",
    "#print(fakeTweetsList[0])\n",
    "with open('real_tweets.txt','r') as json_file:\n",
    "    real_tweets_obj = json.load(json_file)\n",
    "    "
   ]
  },
  {
   "cell_type": "code",
   "execution_count": 0,
   "metadata": {
    "colab": {},
    "colab_type": "code",
    "collapsed": false,
    "deletable": true,
    "editable": true,
    "id": "NnAzCaP9pl2T",
    "outputId": "53631da9-bba3-4387-b269-f3310653b456"
   },
   "outputs": [
    {
     "ename": "NameError",
     "evalue": "name 'nola_clean' is not defined",
     "output_type": "error",
     "traceback": [
      "\u001b[0;31m---------------------------------------------------------------------------\u001b[0m",
      "\u001b[0;31mNameError\u001b[0m                                 Traceback (most recent call last)",
      "\u001b[0;32m<ipython-input-5-c51441fea402>\u001b[0m in \u001b[0;36m<module>\u001b[0;34m()\u001b[0m\n\u001b[1;32m      8\u001b[0m \u001b[0;34m\u001b[0m\u001b[0m\n\u001b[1;32m      9\u001b[0m \u001b[0;31m# suppose we have the two lists: fakeTweetsList, realTweetsList\u001b[0m\u001b[0;34m\u001b[0m\u001b[0;34m\u001b[0m\u001b[0m\n\u001b[0;32m---> 10\u001b[0;31m \u001b[0mnumFakeTweet\u001b[0m\u001b[0;34m=\u001b[0m\u001b[0mlen\u001b[0m\u001b[0;34m(\u001b[0m\u001b[0mnola_clean\u001b[0m\u001b[0;34m)\u001b[0m\u001b[0;34m\u001b[0m\u001b[0m\n\u001b[0m\u001b[1;32m     11\u001b[0m \u001b[0mnumRealTweet\u001b[0m\u001b[0;34m=\u001b[0m\u001b[0mlen\u001b[0m\u001b[0;34m(\u001b[0m\u001b[0mrealTweetsList\u001b[0m\u001b[0;34m)\u001b[0m\u001b[0;34m\u001b[0m\u001b[0m\n\u001b[1;32m     12\u001b[0m \u001b[0;34m\u001b[0m\u001b[0m\n",
      "\u001b[0;31mNameError\u001b[0m: name 'nola_clean' is not defined"
     ]
    }
   ],
   "source": [
    "# How many tweets per day for each (old and fake)\n",
    "\n",
    "# Use the two lists of tweets both sorted by dates: one of fake tweets, one of real tweets\n",
    "# Use len to get how many elements of the list (total tweets)\n",
    "# Get the first and the last element of the dates of both lists\n",
    "# Subtract the latest date and the newest date to get how many days in total\n",
    "# Divide the total dates by the total tweets\n",
    "\n",
    "# suppose we have the two lists: fakeTweetsList, realTweetsList\n",
    "numFakeTweet=len(nola_clean)\n",
    "numRealTweet=len(realTweetsList)\n",
    "\n",
    "# newest/oldest date for fakeTweetsList\n",
    "\n",
    "\n",
    "fakeStart = datetime.datetime(2014,12,27)\n",
    "fakeEnd = datetime.datetime(2017,8,8)\n",
    "fake_diff = abs((fakeEnd-fakeStart).days)\n",
    "\n",
    "realStart= datetime.datetime(2014,9,1)\n",
    "realEnd = datetime.datetime(2017,8,8) \n",
    "real_diff = abs((realEnd-realStart).days)\n",
    "print(\"fake:\" + str(fake_diff)+\" days\")\n",
    "print(\"real:\" +str(real_diff)+\" days\")#datetime delta\n",
    "\n",
    "\n",
    "avg_ftw_per_day = numFakeTweet/fake_diff\n",
    "avg_rtw_per_day = numRealTweet/real_diff\n",
    "\n",
    "print(\"average fake tweets per day: \"+ str(avg_ftw_per_day))\n",
    "print(\"average real tweets per day: \"+ str(avg_rtw_per_day))"
   ]
  },
  {
   "cell_type": "code",
   "execution_count": 0,
   "metadata": {
    "colab": {},
    "colab_type": "code",
    "collapsed": true,
    "deletable": true,
    "editable": true,
    "id": "M3DJg8WvQ8mR"
   },
   "outputs": [],
   "source": [
    "type(realEnd)"
   ]
  },
  {
   "cell_type": "code",
   "execution_count": 0,
   "metadata": {
    "colab": {},
    "colab_type": "code",
    "collapsed": false,
    "deletable": true,
    "editable": true,
    "id": "_oFFicNSQ8mT",
    "outputId": "453a03cb-c6b9-49ff-d76e-83194e7f09ba"
   },
   "outputs": [
    {
     "data": {
      "text/plain": [
       "method_descriptor"
      ]
     },
     "execution_count": 40,
     "metadata": {
      "tags": []
     },
     "output_type": "execute_result"
    }
   ],
   "source": [
    "type(pd.datetime.date)"
   ]
  },
  {
   "cell_type": "code",
   "execution_count": 68,
   "metadata": {
    "colab": {},
    "colab_type": "code",
    "collapsed": true,
    "deletable": true,
    "editable": true,
    "id": "KsvdhIR1pl2W"
   },
   "outputs": [],
   "source": [
    "import plotly.plotly as py\n",
    "import plotly.graph_objs as go\n",
    "import plotly\n",
    "from plotly.offline import download_plotlyjs, init_notebook_mode, plot, iplot"
   ]
  },
  {
   "cell_type": "code",
   "execution_count": 70,
   "metadata": {
    "collapsed": false
   },
   "outputs": [
    {
     "data": {
      "text/html": [
       "<script>requirejs.config({paths: { 'plotly': ['https://cdn.plot.ly/plotly-latest.min']},});if(!window.Plotly) {{require(['plotly'],function(plotly) {window.Plotly=plotly;});}}</script>"
      ],
      "text/vnd.plotly.v1+html": [
       "<script>requirejs.config({paths: { 'plotly': ['https://cdn.plot.ly/plotly-latest.min']},});if(!window.Plotly) {{require(['plotly'],function(plotly) {window.Plotly=plotly;});}}</script>"
      ]
     },
     "metadata": {},
     "output_type": "display_data"
    }
   ],
   "source": [
    "init_notebook_mode(connected=True)"
   ]
  },
  {
   "cell_type": "code",
   "execution_count": 71,
   "metadata": {
    "colab": {},
    "colab_type": "code",
    "collapsed": false,
    "deletable": true,
    "editable": true,
    "id": "NhBCFtpZQ8mX"
   },
   "outputs": [],
   "source": [
    "def URLRatio (fakeNewsList):\n",
    "    counterFURLs=[]\n",
    "    numFakeTweets = []\n",
    "    pd_fakeStart = pd.to_datetime('2014-12-27', yearfirst = True)\n",
    "    pd_fakeEnd = pd.to_datetime('2017-8-8', yearfirst = True)\n",
    "    \n",
    "    datelist = pd.date_range(pd_fakeStart,pd_fakeEnd, freq='M').tolist()\n",
    "    #print(datelist)\n",
    "   \n",
    "    #print(type(datelist[0]))\n",
    "    #print(type(datelist[0]))\n",
    "    monthly_fakeTweets = []\n",
    "    \n",
    "    for i in range(len(datelist)-1):\n",
    "        curr_month = []\n",
    "        for ftweet in fakeNewsList: \n",
    "            curr = pd.to_datetime(ftweet[13])\n",
    "            curr = curr.date()\n",
    "            if curr>=datelist[i].date() and curr<=datelist[i+1].date():\n",
    "                curr_month.append(ftweet)\n",
    "                fakeNewsList.remove(ftweet)\n",
    "            elif curr>datelist[i+1].date():\n",
    "                #print(curr_month)\n",
    "                monthly_fakeTweets.append(curr_month)\n",
    "                break     \n",
    "    monthly_fakeTweets.append(curr_month)  #in the case where the current month is the last\n",
    "    #print(monthly_fakeTweets[3])\n",
    "    \n",
    "    \n",
    "    numFakeTweets=[len(each_month) for each_month in monthly_fakeTweets]\n",
    "    for current_month in monthly_fakeTweets:\n",
    "        curr_counter = 0\n",
    "        for ftweet in current_month:\n",
    "            if '://' in ftweet[28]:\n",
    "                #print(ftweet[28])\n",
    "                curr_counter+=1                \n",
    "        counterFURLs.append(curr_counter)\n",
    "   #     print(counterFURLs)\n",
    "   #    print(ftweet[28])\n",
    "    counterNoFURLs = []\n",
    "    print(numFakeTweets)\n",
    "    counterNoFURLs= [i - j for i, j in zip(numFakeTweets, counterFURLs)] \n",
    "    ratioWithURLs = [i / j for i, j in zip(counterFURLs, numFakeTweets) if j is not 0 ] \n",
    "    ratioNoURLs = [i / j for i, j in zip(counterNoFURLs, numFakeTweets) if j is not 0] \n",
    "\n",
    "\n",
    " #   ratioWithURLs=(counterFURLs/numFakeTweets)\n",
    "#  ratioNoURLs=(counterNoFURLs/numFakeTweets)\n",
    "    \n",
    "    \n",
    "    \n",
    "    print(\"This fake news account has a total number of \"+ str(numFakeTweets)+\" tweets.\")\n",
    "    print(\"This is the ratio of tweets with URLs: \"+str(ratioWithURLs))\n",
    "    print(\"This is the ratio of tweets with No URLs: \"+str(ratioNoURLs))\n",
    "    labels = 'WithURLs','WithoutURLs'\n",
    "    trace1 = go.Bar(\n",
    "        x=datelist,\n",
    "        y=counterFURLs,\n",
    "        name='with URLs'\n",
    "    )\n",
    "    trace2 = go.Bar(\n",
    "        x=datelist,\n",
    "        y=counterNoFURLs,\n",
    "        name='without URLs'\n",
    "    )\n",
    "\n",
    "    data = [trace1, trace2]\n",
    "    layout = go.Layout(\n",
    "        barmode='stack'\n",
    "    )\n",
    "\n",
    "    fig = go.Figure(data=data, layout=layout)\n",
    "    iplot(fig, filename='stacked-bar')\n",
    "  #  for i in range(len(ratioWithURLs)):       \n",
    "  #      sizes = [ratioWithURLs[i],ratioNoURLs[i]]\n",
    "  #      colors=['yellowgreen', 'lightcoral']\n",
    "  #      explode = (0.1, 0)  # only \"explode\" the 1st slice\n",
    "#\n",
    "  #      fig1, ax1 = plt.subplots()\n",
    "  #      ax1.pie(sizes, explode=explode, labels=labels, colors=colors,autopct='%1.1f%%',shadow=True, startangle=90)\n",
    "  #      ax1.axis('equal')  # Equal aspect ratio ensures that pie is drawn as a circle.\n",
    "  #      plt.show()\n",
    "  #      #return (ratioWithURLs,ratioNoURLs)"
   ]
  },
  {
   "cell_type": "code",
   "execution_count": 72,
   "metadata": {
    "colab": {},
    "colab_type": "code",
    "collapsed": true,
    "deletable": true,
    "editable": true,
    "id": "41TwZirhSQyj"
   },
   "outputs": [],
   "source": [
    "news_obj = []\n",
    "for news in fakeNewsList:\n",
    "    with open(news+'.txt','r') as inputFile:\n",
    "        newOrleansON = json.load(inputFile)\n",
    "        newOrleansON.sort(key = lambda aList: aList[13])\n"
   ]
  },
  {
   "cell_type": "code",
   "execution_count": 73,
   "metadata": {
    "colab": {},
    "colab_type": "code",
    "collapsed": false,
    "deletable": true,
    "editable": true,
    "id": "MR-IY3E8IpAr",
    "outputId": "8e951f05-3674-47b7-b0ee-4692d24545af"
   },
   "outputs": [
    {
     "name": "stdout",
     "output_type": "stream",
     "text": [
      "[1756, 1410, 1552, 1523, 1672, 1694, 1445, 1142, 1752, 1685, 1410, 1437, 1468, 928, 0, 1, 0, 0, 0, 0, 422, 445, 128, 186, 197, 175, 202, 214, 222, 196, 167, 167]\n",
      "This fake news account has a total number of [1756, 1410, 1552, 1523, 1672, 1694, 1445, 1142, 1752, 1685, 1410, 1437, 1468, 928, 0, 1, 0, 0, 0, 0, 422, 445, 128, 186, 197, 175, 202, 214, 222, 196, 167, 167] tweets.\n",
      "This is the ratio of tweets with URLs: [0.06150341685649203, 0.014184397163120567, 0.01095360824742268, 0.005909389363099146, 0.005980861244019139, 0.007674144037780401, 0.007612456747404845, 0.008756567425569177, 0.00684931506849315, 0.005341246290801187, 0.00851063829787234, 0.022268615170494086, 0.03746594005449591, 0.09159482758620689, 0.0, 0.9976303317535545, 1.0, 1.0, 1.0, 1.0, 1.0, 1.0, 1.0, 1.0, 0.9948979591836735, 0.9940119760479041, 0.9940119760479041]\n",
      "This is the ratio of tweets with No URLs: [0.9384965831435079, 0.9858156028368794, 0.9890463917525774, 0.9940906106369009, 0.9940191387559809, 0.9923258559622196, 0.9923875432525952, 0.9912434325744308, 0.9931506849315068, 0.9946587537091988, 0.9914893617021276, 0.977731384829506, 0.9625340599455041, 0.9084051724137931, 1.0, 0.002369668246445498, 0.0, 0.0, 0.0, 0.0, 0.0, 0.0, 0.0, 0.0, 0.00510204081632653, 0.005988023952095809, 0.005988023952095809]\n"
     ]
    },
    {
     "data": {
      "application/vnd.plotly.v1+json": {
       "data": [
        {
         "name": "with URLs",
         "type": "bar",
         "x": [
          "2014-12-31",
          "2015-01-31",
          "2015-02-28",
          "2015-03-31",
          "2015-04-30",
          "2015-05-31",
          "2015-06-30",
          "2015-07-31",
          "2015-08-31",
          "2015-09-30",
          "2015-10-31",
          "2015-11-30",
          "2015-12-31",
          "2016-01-31",
          "2016-02-29",
          "2016-03-31",
          "2016-04-30",
          "2016-05-31",
          "2016-06-30",
          "2016-07-31",
          "2016-08-31",
          "2016-09-30",
          "2016-10-31",
          "2016-11-30",
          "2016-12-31",
          "2017-01-31",
          "2017-02-28",
          "2017-03-31",
          "2017-04-30",
          "2017-05-31",
          "2017-06-30",
          "2017-07-31"
         ],
         "y": [
          108,
          20,
          17,
          9,
          10,
          13,
          11,
          10,
          12,
          9,
          12,
          32,
          55,
          85,
          0,
          0,
          0,
          0,
          0,
          0,
          421,
          445,
          128,
          186,
          197,
          175,
          202,
          214,
          222,
          195,
          166,
          166
         ]
        },
        {
         "name": "without URLs",
         "type": "bar",
         "x": [
          "2014-12-31",
          "2015-01-31",
          "2015-02-28",
          "2015-03-31",
          "2015-04-30",
          "2015-05-31",
          "2015-06-30",
          "2015-07-31",
          "2015-08-31",
          "2015-09-30",
          "2015-10-31",
          "2015-11-30",
          "2015-12-31",
          "2016-01-31",
          "2016-02-29",
          "2016-03-31",
          "2016-04-30",
          "2016-05-31",
          "2016-06-30",
          "2016-07-31",
          "2016-08-31",
          "2016-09-30",
          "2016-10-31",
          "2016-11-30",
          "2016-12-31",
          "2017-01-31",
          "2017-02-28",
          "2017-03-31",
          "2017-04-30",
          "2017-05-31",
          "2017-06-30",
          "2017-07-31"
         ],
         "y": [
          1648,
          1390,
          1535,
          1514,
          1662,
          1681,
          1434,
          1132,
          1740,
          1676,
          1398,
          1405,
          1413,
          843,
          0,
          1,
          0,
          0,
          0,
          0,
          1,
          0,
          0,
          0,
          0,
          0,
          0,
          0,
          0,
          1,
          1,
          1
         ]
        }
       ],
       "layout": {
        "barmode": "stack"
       }
      },
      "text/html": [
       "<div id=\"408aacdf-fe47-4138-aea5-641207e794b8\" style=\"height: 525px; width: 100%;\" class=\"plotly-graph-div\"></div><script type=\"text/javascript\">require([\"plotly\"], function(Plotly) { window.PLOTLYENV=window.PLOTLYENV || {};window.PLOTLYENV.BASE_URL=\"https://plot.ly\";Plotly.newPlot(\"408aacdf-fe47-4138-aea5-641207e794b8\", [{\"name\": \"with URLs\", \"y\": [108, 20, 17, 9, 10, 13, 11, 10, 12, 9, 12, 32, 55, 85, 0, 0, 0, 0, 0, 0, 421, 445, 128, 186, 197, 175, 202, 214, 222, 195, 166, 166], \"type\": \"bar\", \"x\": [\"2014-12-31\", \"2015-01-31\", \"2015-02-28\", \"2015-03-31\", \"2015-04-30\", \"2015-05-31\", \"2015-06-30\", \"2015-07-31\", \"2015-08-31\", \"2015-09-30\", \"2015-10-31\", \"2015-11-30\", \"2015-12-31\", \"2016-01-31\", \"2016-02-29\", \"2016-03-31\", \"2016-04-30\", \"2016-05-31\", \"2016-06-30\", \"2016-07-31\", \"2016-08-31\", \"2016-09-30\", \"2016-10-31\", \"2016-11-30\", \"2016-12-31\", \"2017-01-31\", \"2017-02-28\", \"2017-03-31\", \"2017-04-30\", \"2017-05-31\", \"2017-06-30\", \"2017-07-31\"]}, {\"name\": \"without URLs\", \"y\": [1648, 1390, 1535, 1514, 1662, 1681, 1434, 1132, 1740, 1676, 1398, 1405, 1413, 843, 0, 1, 0, 0, 0, 0, 1, 0, 0, 0, 0, 0, 0, 0, 0, 1, 1, 1], \"type\": \"bar\", \"x\": [\"2014-12-31\", \"2015-01-31\", \"2015-02-28\", \"2015-03-31\", \"2015-04-30\", \"2015-05-31\", \"2015-06-30\", \"2015-07-31\", \"2015-08-31\", \"2015-09-30\", \"2015-10-31\", \"2015-11-30\", \"2015-12-31\", \"2016-01-31\", \"2016-02-29\", \"2016-03-31\", \"2016-04-30\", \"2016-05-31\", \"2016-06-30\", \"2016-07-31\", \"2016-08-31\", \"2016-09-30\", \"2016-10-31\", \"2016-11-30\", \"2016-12-31\", \"2017-01-31\", \"2017-02-28\", \"2017-03-31\", \"2017-04-30\", \"2017-05-31\", \"2017-06-30\", \"2017-07-31\"]}], {\"barmode\": \"stack\"}, {\"showLink\": true, \"linkText\": \"Export to plot.ly\"})});</script>"
      ],
      "text/vnd.plotly.v1+html": [
       "<div id=\"408aacdf-fe47-4138-aea5-641207e794b8\" style=\"height: 525px; width: 100%;\" class=\"plotly-graph-div\"></div><script type=\"text/javascript\">require([\"plotly\"], function(Plotly) { window.PLOTLYENV=window.PLOTLYENV || {};window.PLOTLYENV.BASE_URL=\"https://plot.ly\";Plotly.newPlot(\"408aacdf-fe47-4138-aea5-641207e794b8\", [{\"name\": \"with URLs\", \"y\": [108, 20, 17, 9, 10, 13, 11, 10, 12, 9, 12, 32, 55, 85, 0, 0, 0, 0, 0, 0, 421, 445, 128, 186, 197, 175, 202, 214, 222, 195, 166, 166], \"type\": \"bar\", \"x\": [\"2014-12-31\", \"2015-01-31\", \"2015-02-28\", \"2015-03-31\", \"2015-04-30\", \"2015-05-31\", \"2015-06-30\", \"2015-07-31\", \"2015-08-31\", \"2015-09-30\", \"2015-10-31\", \"2015-11-30\", \"2015-12-31\", \"2016-01-31\", \"2016-02-29\", \"2016-03-31\", \"2016-04-30\", \"2016-05-31\", \"2016-06-30\", \"2016-07-31\", \"2016-08-31\", \"2016-09-30\", \"2016-10-31\", \"2016-11-30\", \"2016-12-31\", \"2017-01-31\", \"2017-02-28\", \"2017-03-31\", \"2017-04-30\", \"2017-05-31\", \"2017-06-30\", \"2017-07-31\"]}, {\"name\": \"without URLs\", \"y\": [1648, 1390, 1535, 1514, 1662, 1681, 1434, 1132, 1740, 1676, 1398, 1405, 1413, 843, 0, 1, 0, 0, 0, 0, 1, 0, 0, 0, 0, 0, 0, 0, 0, 1, 1, 1], \"type\": \"bar\", \"x\": [\"2014-12-31\", \"2015-01-31\", \"2015-02-28\", \"2015-03-31\", \"2015-04-30\", \"2015-05-31\", \"2015-06-30\", \"2015-07-31\", \"2015-08-31\", \"2015-09-30\", \"2015-10-31\", \"2015-11-30\", \"2015-12-31\", \"2016-01-31\", \"2016-02-29\", \"2016-03-31\", \"2016-04-30\", \"2016-05-31\", \"2016-06-30\", \"2016-07-31\", \"2016-08-31\", \"2016-09-30\", \"2016-10-31\", \"2016-11-30\", \"2016-12-31\", \"2017-01-31\", \"2017-02-28\", \"2017-03-31\", \"2017-04-30\", \"2017-05-31\", \"2017-06-30\", \"2017-07-31\"]}], {\"barmode\": \"stack\"}, {\"showLink\": true, \"linkText\": \"Export to plot.ly\"})});</script>"
      ]
     },
     "metadata": {},
     "output_type": "display_data"
    }
   ],
   "source": [
    "URLRatio(newOrleansON)"
   ]
  },
  {
   "cell_type": "code",
   "execution_count": 0,
   "metadata": {
    "colab": {},
    "colab_type": "code",
    "collapsed": true,
    "deletable": true,
    "editable": true,
    "id": "OB_EcNgiQ8mZ"
   },
   "outputs": [],
   "source": [
    "def makeRatioChart(ratioURLs,ratioNoURLs):\n",
    "    # Pie chart, where the slices will be ordered and plotted counter-clockwise:\n",
    "    labels = 'WithURLs','WithoutURLs'\n",
    "    sizes = [ratioURLs,ratioNoURLs]\n",
    "    colors=['yellowgreen', 'lightcoral']\n",
    "    explode = (0.1, 0)  # only \"explode\" the 1st slice\n",
    "\n",
    "    fig1, ax1 = plt.subplots()\n",
    "    ax1.pie(sizes, explode=explode, labels=labels, colors=colors,autopct='%1.1f%%',\n",
    "        shadow=True, startangle=90)\n",
    "    ax1.axis('equal')  # Equal aspect ratio ensures that pie is drawn as a circle.\n",
    "\n",
    "    plt.show()\n",
    "\n",
    "    \n",
    "#sizes = [215, 130, 245, 210]\n",
    "#colors = ['gold', 'yellowgreen', 'lightcoral', 'lightskyblue']\n",
    "#explode = (0.1, 0, 0, 0)  # explode 1st slice\n",
    "\n",
    "# Plot\n",
    "#plt.pie(sizes, explode=explode, labels=labels, colors=colors,\n",
    "#autopct='%1.1f%%', shadow=True, startangle=140)\n"
   ]
  },
  {
   "cell_type": "code",
   "execution_count": 0,
   "metadata": {
    "colab": {},
    "colab_type": "code",
    "collapsed": false,
    "deletable": true,
    "editable": true,
    "id": "MzbG-lhQIpAv",
    "outputId": "ec2deaaa-6a6a-4b35-f245-c1504ddecd18"
   },
   "outputs": [
    {
     "data": {
      "image/png": "[encoded data removed]",
      "text/plain": [
       "<matplotlib.figure.Figure at 0x11ac13b38>"
      ]
     },
     "metadata": {
      "tags": []
     },
     "output_type": "display_data"
    }
   ],
   "source": [
    "makeRatioChart(0.5,0.5)"
   ]
  },
  {
   "cell_type": "code",
   "execution_count": 0,
   "metadata": {
    "colab": {},
    "colab_type": "code",
    "collapsed": true,
    "deletable": true,
    "editable": true,
    "id": "QiwLnVwipl2Y"
   },
   "outputs": [],
   "source": [
    "# Identify close matches of strings\n",
    "\n",
    "import difflib\n",
    "from difflib import get_close_matches\n",
    "\n",
    "#help(get_close_matches)\n",
    "\n",
    "for ritem in realTweetsList:\n",
    "    get_close_matches(ritem,nola_clean,cutoff=0.6)\n",
    "\n",
    "    \n"
   ]
  },
  {
   "cell_type": "code",
   "execution_count": 0,
   "metadata": {
    "colab": {},
    "colab_type": "code",
    "collapsed": true,
    "deletable": true,
    "editable": true,
    "id": "VdpaVxZspl2a"
   },
   "outputs": [],
   "source": [
    " "
   ]
  },
  {
   "cell_type": "code",
   "execution_count": 0,
   "metadata": {
    "colab": {},
    "colab_type": "code",
    "collapsed": true,
    "deletable": true,
    "editable": true,
    "id": "ZBXFS2pGQ8mi"
   },
   "outputs": [],
   "source": []
  }
 ],
 "metadata": {
  "colab": {
   "name": "gettweeturls_with_charts-3.ipynb",
   "provenance": [],
   "version": "0.3.2"
  },
  "kernelspec": {
   "display_name": "Python 3",
   "language": "python",
   "name": "python3"
  },
  "language_info": {
   "codemirror_mode": {
    "name": "ipython",
    "version": 3
   },
   "file_extension": ".py",
   "mimetype": "text/x-python",
   "name": "python",
   "nbconvert_exporter": "python",
   "pygments_lexer": "ipython3",
   "version": "3.5.2"
  }
 },
 "nbformat": 4,
 "nbformat_minor": 0
}
